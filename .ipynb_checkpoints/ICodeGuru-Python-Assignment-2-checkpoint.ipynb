{
 "cells": [
  {
   "cell_type": "markdown",
   "id": "126fc8a6",
   "metadata": {},
   "source": [
    "## Python-Assignment-2\n",
    "\n",
    "### String Handling"
   ]
  },
  {
   "cell_type": "code",
   "execution_count": 1,
   "id": "2801b88c",
   "metadata": {},
   "outputs": [
    {
     "name": "stdout",
     "output_type": "stream",
     "text": [
      "16\n"
     ]
    }
   ],
   "source": [
    "# Q1- Write a program to find length of a string.\n",
    "str = \"icodeguru python\"\n",
    "print(len(str)) "
   ]
  },
  {
   "cell_type": "code",
   "execution_count": 2,
   "id": "5af343a9",
   "metadata": {},
   "outputs": [
    {
     "name": "stdout",
     "output_type": "stream",
     "text": [
      "icodeguru python\n",
      "This is copy of string one:  icodeguru python\n"
     ]
    }
   ],
   "source": [
    "# Q2- Write a program to copy one string to another string.\n",
    "str1 = \"icodeguru python\"\n",
    "print(str1)\n",
    "str2 = str1\n",
    "print(\"This is copy of string one: \", str2)"
   ]
  },
  {
   "cell_type": "code",
   "execution_count": 3,
   "id": "7c9745f2",
   "metadata": {},
   "outputs": [
    {
     "name": "stdout",
     "output_type": "stream",
     "text": [
      "Hello World\n"
     ]
    }
   ],
   "source": [
    "# Q3- Write a program to concatenate two strings.\n",
    "str1 = \"Hello\"\n",
    "str2 = \"World\"\n",
    "result = str1 + \" \" + str2\n",
    "print(result)"
   ]
  },
  {
   "cell_type": "code",
   "execution_count": 4,
   "id": "ceab1aee",
   "metadata": {},
   "outputs": [
    {
     "name": "stdout",
     "output_type": "stream",
     "text": [
      "The strings are different\n"
     ]
    }
   ],
   "source": [
    "# Q4- Write a program to compare two strings.\n",
    "string1  =  \"apple\"\n",
    "string2  =  \"Apple\"\n",
    "if(string1 == string2):\n",
    "    print(\"The strings are equal\")\n",
    "else:\n",
    "    print(\"The strings are different\")"
   ]
  },
  {
   "cell_type": "code",
   "execution_count": 5,
   "id": "06217de1",
   "metadata": {},
   "outputs": [
    {
     "name": "stdout",
     "output_type": "stream",
     "text": [
      "APPLE\n"
     ]
    }
   ],
   "source": [
    "# 5- Write a program to convert lowercase string to uppercase.\n",
    "string1 = \"apple\"\n",
    "print(string1.upper())"
   ]
  },
  {
   "cell_type": "code",
   "execution_count": 6,
   "id": "32a82bec",
   "metadata": {},
   "outputs": [
    {
     "name": "stdout",
     "output_type": "stream",
     "text": [
      "APPLE\n",
      "apple\n"
     ]
    }
   ],
   "source": [
    "# 6- Write a program to convert uppercase string to lowercase.\n",
    "string1 = \"APPLE\"\n",
    "print(string1)\n",
    "print(string1.lower())"
   ]
  },
  {
   "cell_type": "code",
   "execution_count": 7,
   "id": "b8f85bc5",
   "metadata": {},
   "outputs": [
    {
     "name": "stdout",
     "output_type": "stream",
     "text": [
      "Toggled string: hELLO\n"
     ]
    }
   ],
   "source": [
    "#7- Write a program to toggle case of each character of a string\n",
    "input_string = \"Hello\"\n",
    "\n",
    "toggled_string = \"\"\n",
    "\n",
    "for char in input_string:\n",
    "    if char.isupper():\n",
    "        toggled_string += char.lower()\n",
    "    elif char.islower():\n",
    "        toggled_string += char.upper()\n",
    "    else:\n",
    "        toggled_string += char\n",
    "\n",
    "print(\"Toggled string:\", toggled_string)"
   ]
  },
  {
   "cell_type": "code",
   "execution_count": 8,
   "id": "670295c8",
   "metadata": {},
   "outputs": [
    {
     "name": "stdout",
     "output_type": "stream",
     "text": [
      "Total number of alphabets: 36\n",
      "Total number of digits: 1\n",
      "Total number of special characters: 6\n"
     ]
    }
   ],
   "source": [
    "#8- Write a program to find total number of alphabets, digits or special character in a string\n",
    "input_string = \"This is ICodeGuru Python Class Assignment 2\"\n",
    "alphabets_count = 0\n",
    "digits_count = 0\n",
    "special_characters_count = 0\n",
    "\n",
    "for char in input_string:\n",
    "    if char.isalpha():\n",
    "        alphabets_count += 1\n",
    "    elif char.isdigit():\n",
    "        digits_count += 1\n",
    "    else:\n",
    "        special_characters_count += 1\n",
    "\n",
    "print(\"Total number of alphabets:\", alphabets_count)\n",
    "print(\"Total number of digits:\", digits_count)\n",
    "print(\"Total number of special characters:\", special_characters_count)"
   ]
  },
  {
   "cell_type": "code",
   "execution_count": 9,
   "id": "38477014",
   "metadata": {},
   "outputs": [
    {
     "name": "stdout",
     "output_type": "stream",
     "text": [
      "Total number of vowels: 3\n",
      "Total number of consonants: 7\n"
     ]
    }
   ],
   "source": [
    "#9- Write a program to count total number of vowels and consonants in a string.\n",
    "input_string = \"Hello World\"\n",
    "vowels = \"aeiouAEIOU\"\n",
    "    \n",
    "vowels_count = 0\n",
    "consonants_count = 0\n",
    "    \n",
    "for char in input_string:\n",
    "    if char.isalpha():\n",
    "        if char in vowels:\n",
    "            vowels_count += 1\n",
    "        else:\n",
    "            consonants_count += 1\n",
    "#return vowels_count, consonants_count\n",
    "\n",
    "#input_string = input(\"Enter a string: \")\n",
    "\n",
    "#vowels, consonants = count_vowels_and_consonants(input_string)\n",
    "\n",
    "# Print the counts\n",
    "print(\"Total number of vowels:\", vowels_count)\n",
    "print(\"Total number of consonants:\", consonants_count)"
   ]
  },
  {
   "cell_type": "code",
   "execution_count": 10,
   "id": "d79b1fbe",
   "metadata": {},
   "outputs": [
    {
     "name": "stdout",
     "output_type": "stream",
     "text": [
      "Total number of words: 10\n"
     ]
    }
   ],
   "source": [
    "#10- Write a program to count total number of words in a string.\n",
    "input_string = \"Hello, this string is use for finding length of string\"\n",
    "words = input_string.split()\n",
    "total_words = len(words)\n",
    "print(\"Total number of words:\", total_words)"
   ]
  },
  {
   "cell_type": "code",
   "execution_count": 11,
   "id": "02642d7c",
   "metadata": {},
   "outputs": [
    {
     "name": "stdout",
     "output_type": "stream",
     "text": [
      "Hello World!\n",
      "!dlroW olleH\n"
     ]
    }
   ],
   "source": [
    "#11- Write a program to find reverse of a string.\n",
    "string = \"Hello World!\"\n",
    "print(string)\n",
    "reversed_str = string[::-1]\n",
    "print(reversed_str)"
   ]
  },
  {
   "cell_type": "code",
   "execution_count": 12,
   "id": "07e9f36e",
   "metadata": {},
   "outputs": [
    {
     "name": "stdout",
     "output_type": "stream",
     "text": [
      "Yes\n"
     ]
    }
   ],
   "source": [
    "#12- Write a program to check whether a string is palindrome or not.\n",
    "string =\"ABCDCBA\"\n",
    "p_string = string[::-1]\n",
    "if string == p_string:\n",
    "    print(\"Yes\")\n",
    "else:\n",
    "    print(\"No\")"
   ]
  },
  {
   "cell_type": "code",
   "execution_count": 13,
   "id": "e776ad3b",
   "metadata": {},
   "outputs": [
    {
     "name": "stdout",
     "output_type": "stream",
     "text": [
      "Reversed string: string sample a is This Hello,\n"
     ]
    }
   ],
   "source": [
    "#13- Write a program to reverse order of words in a given string\n",
    "input_string = \"Hello, This is a sample string\"\n",
    "\n",
    "words = input_string.split()\n",
    "\n",
    "reversed_words = words[::-1]\n",
    "\n",
    "output_string = ' '.join(reversed_words)\n",
    "\n",
    "print(\"Reversed string:\", output_string)"
   ]
  },
  {
   "cell_type": "code",
   "execution_count": 14,
   "id": "97cb9b51",
   "metadata": {},
   "outputs": [
    {
     "name": "stdout",
     "output_type": "stream",
     "text": [
      "First occurrence of 'o' found at index 4\n"
     ]
    }
   ],
   "source": [
    "#14- Write a program to find first occurrence of a character in a given string.\n",
    "input_string = \"Hello World\"\n",
    "\n",
    "# Define the character to find\n",
    "char_to_find = 'o'\n",
    "\n",
    "for index, char in enumerate(input_string):\n",
    "    if char == char_to_find:\n",
    "        print(\"First occurrence of '{}' found at index {}\".format(char_to_find, index))\n",
    "        break\n",
    "else:\n",
    "    print(\"Character '{}' not found in the string\".format(char_to_find))"
   ]
  },
  {
   "cell_type": "code",
   "execution_count": 15,
   "id": "bc3c2bbc",
   "metadata": {},
   "outputs": [
    {
     "name": "stdout",
     "output_type": "stream",
     "text": [
      "Last occurrence of 'o' found at index 7\n"
     ]
    }
   ],
   "source": [
    "#15- Write a program to find last occurrence of a character in a given string.\n",
    "input_string = \"Hello World\"\n",
    "\n",
    "# Define the character to find\n",
    "char_to_find = 'o'\n",
    "\n",
    "last_occurrence_index = -1\n",
    "\n",
    "for index, char in enumerate(input_string):\n",
    "    if char == char_to_find:\n",
    "        last_occurrence_index = index\n",
    "\n",
    "if last_occurrence_index != -1:\n",
    "    print(\"Last occurrence of '{}' found at index {}\".format(char_to_find, last_occurrence_index))\n",
    "else:\n",
    "    print(\"Character '{}' not found in the string\".format(char_to_find))"
   ]
  },
  {
   "cell_type": "code",
   "execution_count": 16,
   "id": "47ea53a2",
   "metadata": {},
   "outputs": [
    {
     "name": "stdout",
     "output_type": "stream",
     "text": [
      "Occurrences of 'o' found at indices: [4, 7]\n"
     ]
    }
   ],
   "source": [
    "#16- Write a program to search all occurrences of a character in given string.\n",
    "input_string = \"Hello World\"\n",
    "\n",
    "char_to_search = 'o'\n",
    "# Initialize a list to store the indices of all occurrences\n",
    "occurrences = []\n",
    "\n",
    "for index, char in enumerate(input_string):\n",
    "    if char == char_to_search:\n",
    "        occurrences.append(index)\n",
    "\n",
    "if occurrences:\n",
    "    print(\"Occurrences of '{}' found at indices: {}\".format(char_to_search, occurrences))\n",
    "else:\n",
    "    print(\"No occurrences of '{}' found in the string\".format(char_to_search))"
   ]
  },
  {
   "cell_type": "code",
   "execution_count": 17,
   "id": "7d59f9a5",
   "metadata": {},
   "outputs": [
    {
     "name": "stdout",
     "output_type": "stream",
     "text": [
      "Occurrences of 'o' in the string: 2\n"
     ]
    }
   ],
   "source": [
    "#17- Write a program to count occurrences of a character in given string.\n",
    "input_string = \"Hello World\"\n",
    "\n",
    "# Define the character to count occurrences for\n",
    "char_to_count = 'o'\n",
    "\n",
    "count = 0\n",
    "\n",
    "for char in input_string:\n",
    "    if char == char_to_count:\n",
    "        count += 1\n",
    "print(\"Occurrences of '{}' in the string: {}\".format(char_to_count, count))"
   ]
  },
  {
   "cell_type": "code",
   "execution_count": 18,
   "id": "6e118259",
   "metadata": {},
   "outputs": [
    {
     "name": "stdout",
     "output_type": "stream",
     "text": [
      "Character 'l' has the highest frequency of 3 occurrences.\n"
     ]
    }
   ],
   "source": [
    "#18- Write a program to find highest frequency character in a string.\n",
    "input_string = \"Hello World\"\n",
    "\n",
    "# Initialize a dictionary to store character frequencies\n",
    "char_frequency = {}\n",
    "\n",
    "for char in input_string:\n",
    "    char_frequency[char] = char_frequency.get(char, 0) + 1\n",
    "\n",
    "max_frequency_char = max(char_frequency, key=char_frequency.get)\n",
    "max_frequency = char_frequency[max_frequency_char]\n",
    "\n",
    "print(\"Character '{}' has the highest frequency of {} occurrences.\".format(max_frequency_char, max_frequency))"
   ]
  },
  {
   "cell_type": "code",
   "execution_count": 19,
   "id": "dd994dbd",
   "metadata": {},
   "outputs": [
    {
     "name": "stdout",
     "output_type": "stream",
     "text": [
      "Character 'H' has the lowest frequency of 1 occurrences.\n"
     ]
    }
   ],
   "source": [
    "#19- Write a program to find lowest frequency character in a string.\n",
    "input_string = \"Hello World\"\n",
    "\n",
    "char_frequency = {}\n",
    "\n",
    "for char in input_string:\n",
    "    char_frequency[char] = char_frequency.get(char, 0) + 1\n",
    "\n",
    "min_frequency_char = min(char_frequency, key=char_frequency.get)\n",
    "min_frequency = char_frequency[min_frequency_char]\n",
    "\n",
    "print(\"Character '{}' has the lowest frequency of {} occurrences.\".format(min_frequency_char, min_frequency))"
   ]
  },
  {
   "cell_type": "code",
   "execution_count": 20,
   "id": "cfc5b0af",
   "metadata": {},
   "outputs": [
    {
     "name": "stdout",
     "output_type": "stream",
     "text": [
      "Character 'H' occurs 1 times.\n",
      "Character 'e' occurs 1 times.\n",
      "Character 'l' occurs 3 times.\n",
      "Character 'o' occurs 2 times.\n",
      "Character ' ' occurs 1 times.\n",
      "Character 'W' occurs 1 times.\n",
      "Character 'r' occurs 1 times.\n",
      "Character 'd' occurs 1 times.\n"
     ]
    }
   ],
   "source": [
    "#20- Write a program to count frequency of each character in a string.\n",
    "input_string = \"Hello World\"\n",
    "\n",
    "char_frequency = {}\n",
    "\n",
    "for char in input_string:\n",
    "    char_frequency[char] = char_frequency.get(char, 0) + 1\n",
    "\n",
    "for char, frequency in char_frequency.items():\n",
    "    print(\"Character '{}' occurs {} times.\".format(char, frequency))"
   ]
  },
  {
   "cell_type": "code",
   "execution_count": 21,
   "id": "3b7b1c7e",
   "metadata": {},
   "outputs": [
    {
     "name": "stdout",
     "output_type": "stream",
     "text": [
      "Modified string after removing first occurrence of 'o' is: Hell World\n"
     ]
    }
   ],
   "source": [
    "#21- Write a program to remove first occurrence of a character from string\n",
    "input_string = \"Hello World\"\n",
    "# Define the character to remove\n",
    "char_to_remove = \"o\"\n",
    "\n",
    "index = input_string.find(char_to_remove)\n",
    "\n",
    "if index != -1:\n",
    "    modified_string = input_string[:index] + input_string[index + 1:]\n",
    "    print(\"Modified string after removing first occurrence of '{}' is: {}\".format(char_to_remove, modified_string))\n",
    "else:\n",
    "    print(\"Character '{}' not found in the string.\".format(char_to_remove))"
   ]
  },
  {
   "cell_type": "code",
   "execution_count": 22,
   "id": "52df6d9b",
   "metadata": {},
   "outputs": [
    {
     "name": "stdout",
     "output_type": "stream",
     "text": [
      "Modified string after removing last occurrence of 'o' is: Hello Wrld\n"
     ]
    }
   ],
   "source": [
    "#22-  Write a program to remove last occurrence of a character from string.\n",
    "input_string = \"Hello World\"\n",
    "\n",
    "# Define the character to remove\n",
    "char_to_remove = \"o\"\n",
    "\n",
    "index = input_string.rfind(char_to_remove)\n",
    "\n",
    "if index != -1:\n",
    "    modified_string = input_string[:index] + input_string[index + 1:]\n",
    "    print(\"Modified string after removing last occurrence of '{}' is: {}\".format(char_to_remove, modified_string))\n",
    "else:\n",
    "    print(\"Character '{}' not found in the string.\".format(char_to_remove))"
   ]
  },
  {
   "cell_type": "code",
   "execution_count": 23,
   "id": "13b3ff26",
   "metadata": {},
   "outputs": [
    {
     "name": "stdout",
     "output_type": "stream",
     "text": [
      "Modified string after removing all occurrences of 'o' is: Hell Wrld\n"
     ]
    }
   ],
   "source": [
    "#23- Write a program to remove all occurrences of a character from string.\n",
    "input_string = \"Hello World\"\n",
    "\n",
    "# Define the character to remove\n",
    "char_to_remove = \"o\"\n",
    "\n",
    "modified_string = input_string.replace(char_to_remove, \"\")\n",
    "\n",
    "print(\"Modified string after removing all occurrences of '{}' is: {}\".format(char_to_remove, modified_string))"
   ]
  },
  {
   "cell_type": "code",
   "execution_count": 24,
   "id": "4eefbe44",
   "metadata": {},
   "outputs": [
    {
     "name": "stdout",
     "output_type": "stream",
     "text": [
      "String with all repeated characters removed: helo wrd\n"
     ]
    }
   ],
   "source": [
    "#24- Write a program to remove all repeated characters from a given string.\n",
    "input_string = \"hello world\"\n",
    "\n",
    "# Initialize an empty string to store unique characters\n",
    "unique_string = \"\"\n",
    "\n",
    "for char in input_string:\n",
    "    if char not in unique_string:\n",
    "        unique_string += char\n",
    "\n",
    "# Print the string with all repeated characters removed\n",
    "print(\"String with all repeated characters removed:\", unique_string)"
   ]
  },
  {
   "cell_type": "code",
   "execution_count": 25,
   "id": "a8be7935",
   "metadata": {},
   "outputs": [
    {
     "name": "stdout",
     "output_type": "stream",
     "text": [
      "Modified string after replacing first occurrence of 'o' with 'x' is: hellx world\n"
     ]
    }
   ],
   "source": [
    "#25- Write a program to replace first occurrence of a character with another in a string.\n",
    "input_string = \"hello world\"\n",
    "\n",
    "# Define the character to replace and the replacement character\n",
    "char_to_replace = \"o\"\n",
    "replacement_char = \"x\"\n",
    "\n",
    "# Find the index of the first occurrence of the character to replace\n",
    "index = input_string.find(char_to_replace)\n",
    "\n",
    "# Check if the character is found\n",
    "if index != -1:\n",
    "    # Replace the character at the found index with the replacement character\n",
    "    modified_string = input_string[:index] + replacement_char + input_string[index + 1:]\n",
    "    print(\"Modified string after replacing first occurrence of '{}' with '{}' is: {}\".format(char_to_replace, replacement_char, modified_string))\n",
    "else:\n",
    "    print(\"Character '{}' not found in the string.\".format(char_to_replace))"
   ]
  },
  {
   "cell_type": "code",
   "execution_count": 26,
   "id": "8d45ad47",
   "metadata": {},
   "outputs": [
    {
     "name": "stdout",
     "output_type": "stream",
     "text": [
      "Modified string after replacing last occurrence of 'o' with 'x' is: hello wxrld\n"
     ]
    }
   ],
   "source": [
    "#26- Write a program to replace last occurrence of a character with another in a string.\n",
    "input_string = \"hello world\"\n",
    "\n",
    "# Define the character to replace and the replacement character\n",
    "char_to_replace = \"o\"\n",
    "replacement_char = \"x\"\n",
    "\n",
    "# Find the index of the last occurrence of the character to replace\n",
    "index = input_string.rfind(char_to_replace)\n",
    "\n",
    "# Check if the character is found\n",
    "if index != -1:\n",
    "    # Replace the character at the found index with the replacement character\n",
    "    modified_string = input_string[:index] + replacement_char + input_string[index + 1:]\n",
    "    print(\"Modified string after replacing last occurrence of '{}' with '{}' is: {}\".format(char_to_replace, replacement_char, modified_string))\n",
    "else:\n",
    "    print(\"Character '{}' not found in the string.\".format(char_to_replace))"
   ]
  },
  {
   "cell_type": "code",
   "execution_count": 27,
   "id": "777b9f7b",
   "metadata": {},
   "outputs": [
    {
     "name": "stdout",
     "output_type": "stream",
     "text": [
      "Modified string after replacing all occurrences of 'o' with 'x' is: hellx wxrld\n"
     ]
    }
   ],
   "source": [
    "#27- Write a program to replace all occurrences of a character with another in a string.\n",
    "# Define the input string\n",
    "input_string = \"hello world\"\n",
    "\n",
    "# Define the character to replace and the replacement character\n",
    "char_to_replace = \"o\"\n",
    "replacement_char = \"x\"\n",
    "\n",
    "# Replace all occurrences of the character with the replacement character\n",
    "modified_string = input_string.replace(char_to_replace, replacement_char)\n",
    "\n",
    "# Print the modified string\n",
    "print(\"Modified string after replacing all occurrences of '{}' with '{}' is: {}\".format(char_to_replace, replacement_char, modified_string))"
   ]
  },
  {
   "cell_type": "code",
   "execution_count": 28,
   "id": "98392670",
   "metadata": {},
   "outputs": [
    {
     "name": "stdout",
     "output_type": "stream",
     "text": [
      "The first occurrence of the word 'search' is at index 6.\n"
     ]
    }
   ],
   "source": [
    "#28- Write a program to find first occurrence of a word in a given string.def find_first_occurrence(string, word):\n",
    "input_string = \"This is a sample string to search for a word.\"\n",
    "\n",
    "word_to_find = \"search\"\n",
    "\n",
    "words = input_string.split()\n",
    "\n",
    "first_occurrence_index = None\n",
    "\n",
    "for i, word in enumerate(words):\n",
    "    if word == word_to_find:\n",
    "        # If a match is found, store the index and break the loop\n",
    "        first_occurrence_index = i\n",
    "        break\n",
    "\n",
    "if first_occurrence_index is not None:\n",
    "    print(\"The first occurrence of the word '{}' is at index {}.\".format(word_to_find, first_occurrence_index))\n",
    "else:\n",
    "    print(\"The word '{}' was not found in the string.\".format(word_to_find))"
   ]
  },
  {
   "cell_type": "code",
   "execution_count": 39,
   "id": "7749343a",
   "metadata": {},
   "outputs": [
    {
     "name": "stdout",
     "output_type": "stream",
     "text": [
      "The word 'word.' was not found in the string.\n"
     ]
    }
   ],
   "source": [
    "#29- Write a program to find last occurrence of a word in a given string.\n",
    "input_string = \"This is a sample string to search for a word in this string.\"\n",
    "\n",
    "word_to_find = \"string.\"\n",
    "\n",
    "words = input_string.split()\n",
    "\n",
    "last_occurrence_index = None\n",
    "\n",
    "for i in range(len(words) - 1, -1, -1):\n",
    "    if words[i] == word_to_find:\n",
    "        last_occurrence_index = i\n",
    "        break\n",
    "\n",
    "if last_occurrence_index is not None:\n",
    "    print(\"The last occurrence of the word '{}' is at index {}.\".format(word_to_find, last_occurrence_index))\n",
    "else:\n",
    "    print(\"The word '{}' was not found in the string.\".format(word_to_find))"
   ]
  },
  {
   "cell_type": "code",
   "execution_count": 30,
   "id": "65856b51",
   "metadata": {},
   "outputs": [
    {
     "name": "stdout",
     "output_type": "stream",
     "text": [
      "The word 'string.' occurs at the following indices: [11]\n"
     ]
    }
   ],
   "source": [
    "#30- Write a program to search all occurrences of a word in given string.\n",
    "input_string = \"This is a sample string with several occurrences of the word string. The string may appear multiple times.\"\n",
    "\n",
    "word_to_find = \"string.\"\n",
    "\n",
    "words = input_string.split()\n",
    "\n",
    "occurrence_indices = []\n",
    "\n",
    "for i, word in enumerate(words):\n",
    "    if word == word_to_find:\n",
    "        occurrence_indices.append(i)\n",
    "\n",
    "if occurrence_indices:\n",
    "    print(\"The word '{}' occurs at the following indices: {}\".format(word_to_find, occurrence_indices))\n",
    "else:\n",
    "    print(\"The word '{}' was not found in the string.\".format(word_to_find))"
   ]
  },
  {
   "cell_type": "code",
   "execution_count": 31,
   "id": "4827c1bc",
   "metadata": {},
   "outputs": [
    {
     "name": "stdout",
     "output_type": "stream",
     "text": [
      "The word 'string.' occurs 1 times in the string.\n"
     ]
    }
   ],
   "source": [
    "#31- Write a program to count occurrences of a word in a given string.\n",
    "input_string = \"This is a sample string with several occurrences of the word string. The string may appear multiple times.\"\n",
    "\n",
    "word_to_count = \"string.\"\n",
    "\n",
    "words = input_string.split()\n",
    "\n",
    "occurrence_count = 0\n",
    "\n",
    "for word in words:\n",
    "    if word == word_to_count:\n",
    "        # If a match is found, increment the count\n",
    "        occurrence_count += 1\n",
    "print(\"The word '{}' occurs {} times in the string.\".format(word_to_count, occurrence_count))"
   ]
  },
  {
   "cell_type": "code",
   "execution_count": 32,
   "id": "4e156199",
   "metadata": {},
   "outputs": [
    {
     "name": "stdout",
     "output_type": "stream",
     "text": [
      "String after removing first occurrence of 'string.': This is a sample string with several occurrences of the word  The string may appear multiple times.\n"
     ]
    }
   ],
   "source": [
    "#32- Write a program to remove first occurrence of a word from string.\n",
    "input_string = \"This is a sample string with several occurrences of the word string. The string may appear multiple times.\"\n",
    "\n",
    "word_to_remove = \"string.\"\n",
    "\n",
    "index = input_string.find(word_to_remove)\n",
    "\n",
    "if index != -1:\n",
    "    output_string = input_string[:index] + input_string[index+len(word_to_remove):]\n",
    "    print(\"String after removing first occurrence of '{}':\".format(word_to_remove), output_string)\n",
    "else:\n",
    "    print(\"Word '{}' not found in the string.\".format(word_to_remove))"
   ]
  },
  {
   "cell_type": "code",
   "execution_count": 33,
   "id": "c8edae2e",
   "metadata": {},
   "outputs": [
    {
     "name": "stdout",
     "output_type": "stream",
     "text": [
      "String after removing last occurrence of 'string.': This is a sample string with several occurrences of the word  The string may appear multiple times.\n"
     ]
    }
   ],
   "source": [
    "#33- Write a program to remove last occurrence of a word in given string.\n",
    "input_string = \"This is a sample string with several occurrences of the word string. The string may appear multiple times.\"\n",
    "\n",
    "word_to_remove = \"string.\"\n",
    "\n",
    "index = input_string.rfind(word_to_remove)\n",
    "\n",
    "if index != -1:\n",
    "    output_string = input_string[:index] + input_string[index+len(word_to_remove):]\n",
    "    print(\"String after removing last occurrence of '{}':\".format(word_to_remove), output_string)\n",
    "else:\n",
    "    print(\"Word '{}' not found in the string.\".format(word_to_remove))"
   ]
  },
  {
   "cell_type": "code",
   "execution_count": 34,
   "id": "9b60a32c",
   "metadata": {},
   "outputs": [
    {
     "name": "stdout",
     "output_type": "stream",
     "text": [
      "String after removing all occurrences of 'string.': This is a sample string with several occurrences of the word  The string may appear multiple times.\n"
     ]
    }
   ],
   "source": [
    "#34- Write a program to remove all occurrence of a word in given string.\n",
    "input_string = \"This is a sample string with several occurrences of the word string. The string may appear multiple times.\"\n",
    "\n",
    "word_to_remove = \"string.\"\n",
    "\n",
    "output_string = input_string.replace(word_to_remove, \"\")\n",
    "\n",
    "print(\"String after removing all occurrences of '{}':\".format(word_to_remove), output_string)"
   ]
  },
  {
   "cell_type": "code",
   "execution_count": 35,
   "id": "cb9b55c6",
   "metadata": {},
   "outputs": [
    {
     "name": "stdout",
     "output_type": "stream",
     "text": [
      "Original String:    Hello, world!\n",
      "Trimmed String: Hello, world!\n"
     ]
    }
   ],
   "source": [
    "#35- Write a program to trim leading white space characters from given string.\n",
    "input_string = \"   Hello, world!\"\n",
    "\n",
    "trimmed_string = \"\"\n",
    "\n",
    "found_non_whitespace = False\n",
    "for char in input_string:\n",
    "    if char.isspace() and not found_non_whitespace:\n",
    "        continue  # Skip leading white space characters\n",
    "    else:\n",
    "        found_non_whitespace = True\n",
    "        trimmed_string += char\n",
    "\n",
    "# Print the trimmed string\n",
    "print(\"Original String:\", input_string)\n",
    "print(\"Trimmed String:\", trimmed_string)"
   ]
  },
  {
   "cell_type": "code",
   "execution_count": 36,
   "id": "ddd955fa",
   "metadata": {},
   "outputs": [
    {
     "name": "stdout",
     "output_type": "stream",
     "text": [
      "Original String: Hello, world!     \n",
      "Trimmed String: !\n"
     ]
    }
   ],
   "source": [
    "#36- Write a program to trim trailing white space characters from given string.\n",
    "input_string = \"Hello, world!     \"\n",
    "\n",
    "trimmed_string = \"\"\n",
    "\n",
    "for char in reversed(input_string):\n",
    "    if char.isspace() and not trimmed_string:\n",
    "        continue  # Skip trailing white space characters\n",
    "    else:\n",
    "        trimmed_string = char + trimmed_string\n",
    "        if not char.isspace():\n",
    "            break\n",
    "\n",
    "print(\"Original String:\", input_string)\n",
    "print(\"Trimmed String:\", trimmed_string)"
   ]
  },
  {
   "cell_type": "code",
   "execution_count": 37,
   "id": "75f19f5e",
   "metadata": {},
   "outputs": [
    {
     "name": "stdout",
     "output_type": "stream",
     "text": [
      "Original String:    Hello, world!     \n",
      "Trimmed String: Hello, world!\n"
     ]
    }
   ],
   "source": [
    "#37- Write a program to trim both leading and trailing white space characters from given string.\n",
    "input_string = \"   Hello, world!     \"\n",
    "\n",
    "start_index = 0\n",
    "end_index = len(input_string) - 1\n",
    "\n",
    "for i, char in enumerate(input_string):\n",
    "    if not char.isspace():\n",
    "        start_index = i\n",
    "        break\n",
    "\n",
    "for i, char in enumerate(reversed(input_string)):\n",
    "    if not char.isspace():\n",
    "        end_index = len(input_string) - 1 - i\n",
    "        break\n",
    "\n",
    "trimmed_string = input_string[start_index:end_index + 1]\n",
    "\n",
    "print(\"Original String:\", input_string)\n",
    "print(\"Trimmed String:\", trimmed_string)"
   ]
  },
  {
   "cell_type": "code",
   "execution_count": 38,
   "id": "565d9949",
   "metadata": {},
   "outputs": [
    {
     "name": "stdout",
     "output_type": "stream",
     "text": [
      "Original String:    Hello,     world!    This    is    a    test.   \n",
      "String with Extra Spaces Removed:  Hello, world! This is a test. \n"
     ]
    }
   ],
   "source": [
    "#38- Write a program to remove all extra blank spaces from given string.\n",
    "input_string = \"   Hello,     world!    This    is    a    test.   \"\n",
    "\n",
    "result_string = \"\"\n",
    "\n",
    "prev_space = False\n",
    "\n",
    "for char in input_string:\n",
    "    if char != ' ' or not prev_space:\n",
    "        result_string += char\n",
    "    prev_space = (char == ' ')\n",
    "\n",
    "print(\"Original String:\", input_string)\n",
    "print(\"String with Extra Spaces Removed:\", result_string)"
   ]
  },
  {
   "cell_type": "markdown",
   "id": "33e5b664",
   "metadata": {},
   "source": [
    "## Happy Coding 🙂"
   ]
  },
  {
   "cell_type": "code",
   "execution_count": null,
   "id": "20bb0b39",
   "metadata": {},
   "outputs": [],
   "source": []
  }
 ],
 "metadata": {
  "kernelspec": {
   "display_name": "Python 3 (ipykernel)",
   "language": "python",
   "name": "python3"
  },
  "language_info": {
   "codemirror_mode": {
    "name": "ipython",
    "version": 3
   },
   "file_extension": ".py",
   "mimetype": "text/x-python",
   "name": "python",
   "nbconvert_exporter": "python",
   "pygments_lexer": "ipython3",
   "version": "3.10.9"
  }
 },
 "nbformat": 4,
 "nbformat_minor": 5
}
