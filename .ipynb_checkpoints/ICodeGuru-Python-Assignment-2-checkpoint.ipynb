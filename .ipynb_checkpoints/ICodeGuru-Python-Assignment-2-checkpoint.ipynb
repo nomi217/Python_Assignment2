{
 "cells": [
  {
   "cell_type": "markdown",
   "id": "126fc8a6",
   "metadata": {},
   "source": [
    "## Python-Assignment-2\n",
    "\n",
    "### String Handling"
   ]
  },
  {
   "cell_type": "code",
   "execution_count": 1,
   "id": "2801b88c",
   "metadata": {},
   "outputs": [
    {
     "name": "stdout",
     "output_type": "stream",
     "text": [
      "16\n"
     ]
    }
   ],
   "source": [
    "# Q1- Write a program to find length of a string.\n",
    "str = \"icodeguru python\"\n",
    "print(len(str)) "
   ]
  },
  {
   "cell_type": "code",
   "execution_count": 2,
   "id": "5af343a9",
   "metadata": {},
   "outputs": [
    {
     "name": "stdout",
     "output_type": "stream",
     "text": [
      "icodeguru python\n",
      "This is copy of string one:  icodeguru python\n"
     ]
    }
   ],
   "source": [
    "# Q2- Write a program to copy one string to another string.\n",
    "str1 = \"icodeguru python\"\n",
    "print(str1)\n",
    "str2 = str1\n",
    "print(\"This is copy of string one: \", str2)"
   ]
  },
  {
   "cell_type": "code",
   "execution_count": 4,
   "id": "7c9745f2",
   "metadata": {},
   "outputs": [
    {
     "name": "stdout",
     "output_type": "stream",
     "text": [
      "Hello World\n"
     ]
    }
   ],
   "source": [
    "# Q3- Write a program to concatenate two strings.\n",
    "str1 = \"Hello\"\n",
    "str2 = \"World\"\n",
    "result = str1 + \" \" + str2\n",
    "print(result)"
   ]
  },
  {
   "cell_type": "code",
   "execution_count": 2,
   "id": "ceab1aee",
   "metadata": {},
   "outputs": [
    {
     "name": "stdout",
     "output_type": "stream",
     "text": [
      "The strings are equal\n"
     ]
    }
   ],
   "source": [
    "# Q4- Write a program to compare two strings.\n",
    "string1  =  \"apple\"\n",
    "string2  =  \"Apple\"\n",
    "if(string1 == string2):\n",
    "    print(\"The strings are equal\")\n",
    "else:\n",
    "    print(\"The strings are different\")"
   ]
  },
  {
   "cell_type": "code",
   "execution_count": 3,
   "id": "06217de1",
   "metadata": {},
   "outputs": [
    {
     "name": "stdout",
     "output_type": "stream",
     "text": [
      "APPLE\n"
     ]
    }
   ],
   "source": [
    "# 5- Write a program to convert lowercase string to uppercase.\n",
    "string1 = \"apple\"\n",
    "print(string1.upper())"
   ]
  },
  {
   "cell_type": "code",
   "execution_count": 4,
   "id": "32a82bec",
   "metadata": {},
   "outputs": [
    {
     "name": "stdout",
     "output_type": "stream",
     "text": [
      "APPLE\n",
      "apple\n"
     ]
    }
   ],
   "source": [
    "# 6- Write a program to convert uppercase string to lowercase.\n",
    "string1 = \"APPLE\"\n",
    "print(string1)\n",
    "print(string1.lower())"
   ]
  },
  {
   "cell_type": "code",
   "execution_count": 5,
   "id": "b8f85bc5",
   "metadata": {},
   "outputs": [
    {
     "name": "stdout",
     "output_type": "stream",
     "text": [
      "Toggled string: hELLO\n"
     ]
    }
   ],
   "source": [
    "#7- Write a program to toggle case of each character of a string\n",
    "input_string = \"Hello\"\n",
    "\n",
    "toggled_string = \"\"\n",
    "\n",
    "for char in input_string:\n",
    "    if char.isupper():\n",
    "        toggled_string += char.lower()\n",
    "    elif char.islower():\n",
    "        toggled_string += char.upper()\n",
    "    else:\n",
    "        toggled_string += char\n",
    "\n",
    "print(\"Toggled string:\", toggled_string)"
   ]
  },
  {
   "cell_type": "code",
   "execution_count": 2,
   "id": "670295c8",
   "metadata": {},
   "outputs": [
    {
     "name": "stdout",
     "output_type": "stream",
     "text": [
      "Total number of alphabets: 36\n",
      "Total number of digits: 1\n",
      "Total number of special characters: 6\n"
     ]
    }
   ],
   "source": [
    "#8- Write a program to find total number of alphabets, digits or special character in a string\n",
    "input_string = \"This is ICodeGuru Python Class Assignment 2\"\n",
    "alphabets_count = 0\n",
    "digits_count = 0\n",
    "special_characters_count = 0\n",
    "\n",
    "for char in input_string:\n",
    "    if char.isalpha():\n",
    "        alphabets_count += 1\n",
    "    elif char.isdigit():\n",
    "        digits_count += 1\n",
    "    else:\n",
    "        special_characters_count += 1\n",
    "\n",
    "print(\"Total number of alphabets:\", alphabets_count)\n",
    "print(\"Total number of digits:\", digits_count)\n",
    "print(\"Total number of special characters:\", special_characters_count)"
   ]
  },
  {
   "cell_type": "code",
   "execution_count": null,
   "id": "38477014",
   "metadata": {},
   "outputs": [],
   "source": [
    "#9- Write a program to count total number of vowels and consonants in a string.\n",
    "str1 = 'Hello, this is vowel'\n",
    "vowels = {'a', 'e', 'i', 'o', 'u'}\n",
    "vowels_count = 0\n",
    "consonants = 0\n",
    "\n",
    "for i in str1:\n",
    "    if i in vowels:\n",
    "        vowels_count += 1\n",
    "    elif i.isalpha():\n",
    "        consonants += 1\n",
    "\n",
    "print(\"Total Number of Vowels in this String =\", vowels)\n",
    "print(\"Total Number of Consonants in this String =\", consonants)"
   ]
  },
  {
   "cell_type": "code",
   "execution_count": null,
   "id": "d79b1fbe",
   "metadata": {},
   "outputs": [],
   "source": [
    "#10- Write a program to count total number of words in a string."
   ]
  }
 ],
 "metadata": {
  "kernelspec": {
   "display_name": "Python 3 (ipykernel)",
   "language": "python",
   "name": "python3"
  },
  "language_info": {
   "codemirror_mode": {
    "name": "ipython",
    "version": 3
   },
   "file_extension": ".py",
   "mimetype": "text/x-python",
   "name": "python",
   "nbconvert_exporter": "python",
   "pygments_lexer": "ipython3",
   "version": "3.10.9"
  }
 },
 "nbformat": 4,
 "nbformat_minor": 5
}
